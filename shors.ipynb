{
 "cells": [
  {
   "cell_type": "code",
   "execution_count": null,
   "metadata": {},
   "outputs": [],
   "source": [
    "#installing all the libraries with ! in the start\n",
    "!pip install qiskit-ibm-runtime\n",
    "!pip install qiskit\n",
    "!pip install pylatexenc\n",
    "!pip install qiskit-aer\n",
    "#import\n",
    "import qiskit\n",
    "from qiskit import QuantumCircuit\n",
    "from qiskit_aer import Aer\n",
    "import numpy as np\n",
    "\n",
    "#function to fetch all the factors of the entered number\n",
    "def fac(n):\n",
    "    factors = []\n",
    "    for i in range(1, n + 1):\n",
    "        if n % i == 0:\n",
    "            factors.append(i)\n",
    "    return factors\n",
    "\n",
    "def shors(N):\n",
    "    circuit = QuantumCircuit(4, 2)\n",
    "    #applying the hadamard gate to qubits 0 and 1\n",
    "    for i in range(2):\n",
    "        circuit.h(i)\n",
    "    #applying cnot gate to 0,2 and 1,2 qubits\n",
    "    for i in range(2):\n",
    "        circuit.cx(i, 2)\n",
    "    #applying the cnot gate to 2 and 3 qubits\n",
    "    circuit.cx(2, 3)\n",
    "    circuit.swap(0, 1)#reversing states\n",
    "    circuit.h(1)\n",
    "    circuit.cp(-np.pi / 2, 0, 1)#controlled phase gate to phase shift\n",
    "    circuit.h(0)\n",
    "    circuit.measure([0, 1], [0, 1])\n",
    "    simulator = Aer.get_backend('qasm_simulator')\n",
    "    job = simulator.run(circuit, shots=1028)\n",
    "    result = job.result()\n",
    "    counts = result.get_counts(circuit)\n",
    "    all_factors = fac(N)\n",
    "\n",
    "    print(\"Factors of\", N, \"are :\", all_factors)\n",
    "    return counts\n",
    "\n",
    "print(\"__________________________________________________________________________________________________________________________________________\")\n",
    "N = int(input(\"Enter the number to factor: \"))\n",
    "shors(N)\n"
   ]
  }
 ],
 "metadata": {
  "language_info": {
   "name": "python"
  }
 },
 "nbformat": 4,
 "nbformat_minor": 2
}
